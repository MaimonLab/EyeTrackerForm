{
 "cells": [
  {
   "cell_type": "markdown",
   "metadata": {},
   "source": [
    "# Analyze timestamp log"
   ]
  },
  {
   "cell_type": "code",
   "execution_count": 93,
   "metadata": {},
   "outputs": [],
   "source": [
    "import numpy as np\n",
    "import pandas as pd\n",
    "import pathlib\n",
    "import datetime\n",
    "import matplotlib.pyplot as plt\n",
    "\n",
    "from matplotlib import dates"
   ]
  },
  {
   "cell_type": "code",
   "execution_count": 94,
   "metadata": {},
   "outputs": [],
   "source": [
    "file_path = pathlib.Path(r'C:\\Users\\maimon\\film_searchbehavior_data\\rig1\\r01c001')\n",
    "\n",
    "filenames = ['searchbehavior_20202825_2020_08_25_03_28_24',\n",
    "             'searchbehavior_20202825_2020_08_25_02_43_04',\n",
    "             'searchbehavior_20202825_2020_08_25_01_39_16',\n",
    "             'searchbehavior_20202825_2020_08_25_11_46_35',\n",
    "             'searchbehavior_20202825_2020_08_25_11_39_10',\n",
    "            'searchbehavior_20202825_2020_08_25_11_03_14',\n",
    "            'searchbehavior_18518215_2020_08_25_11_03_27']"
   ]
  },
  {
   "cell_type": "markdown",
   "metadata": {},
   "source": [
    "# Plot variability and dropped frames"
   ]
  },
  {
   "cell_type": "code",
   "execution_count": 95,
   "metadata": {
    "scrolled": false
   },
   "outputs": [
    {
     "data": {
      "text/plain": [
       "Text(0, 0.5, 'frame number difference')"
      ]
     },
     "execution_count": 95,
     "metadata": {},
     "output_type": "execute_result"
    },
    {
     "data": {
      "image/png": "[encoded data removed]",
      "text/plain": [
       "<Figure size 576x288 with 3 Axes>"
      ]
     },
     "metadata": {
      "needs_background": "light"
     },
     "output_type": "display_data"
    }
   ],
   "source": [
    "import warnings\n",
    "warnings.simplefilter(action='ignore', category=FutureWarning)\n",
    "\n",
    "\n",
    "filename = file_path / filenames[0] \n",
    "\n",
    "df = pd.read_csv( str(filename) + '.csv')\n",
    "df['image_datetime'] = pd.to_datetime(df['imageTime'], unit = 'ms' ).dt.tz_localize(tz='UTC').dt.tz_convert('US/Eastern').dt.tz_localize(None)\n",
    "df['process_datetime'] = pd.to_datetime(df['processTime'], unit = 'ms' ).dt.tz_localize(tz='UTC').dt.tz_convert('US/Eastern').dt.tz_localize(None)\n",
    "\n",
    "bool_timeerror =(df['imageTime'] > 1e12) & (df['processTime'] > 1e12)\n",
    "# df.imageTime[bool_timeerror] = df.processTime[bool_timeerror]\n",
    "# df.drop(bool_timeerror, axis=1)\n",
    "df = df[  bool_timeerror]\n",
    "\n",
    "df['imageSecondsSinceStart'] = (df['imageTime'] - df['imageTime'].values[0])/1000\n",
    "# df.drop(df.tail(1).index,inplace=True) # drop last n rows\n",
    " \n",
    "\n",
    "fig, axs = plt.subplots(3,1, figsize=(8,4),  squeeze=False ) \n",
    "\n",
    "axs[0,0].plot( df['imageSecondsSinceStart'], \n",
    "              df['imageTime'].diff() )\n",
    "# axs[0,0].set_ylim([0,30])\n",
    "axs[1,0].plot(df['imageSecondsSinceStart'], \n",
    "               df['processTime'].diff() , \n",
    "              label= 'computer interval')\n",
    "axs[2,0].plot(df['imageSecondsSinceStart'],\n",
    "              df['frameID'].diff())\n",
    "\n",
    "for ax in axs.ravel():\n",
    "    ax.set_xlabel('Time (s)')\n",
    "    ax.set_ylabel('Interval (ms)')\n",
    "    ax.legend() \n",
    "axs[2,0].set_ylabel('frame number difference')\n",
    "# axs[2,0].set_ylim([0,10])"
   ]
  },
  {
   "cell_type": "code",
   "execution_count": null,
   "metadata": {},
   "outputs": [],
   "source": []
  },
  {
   "cell_type": "code",
   "execution_count": null,
   "metadata": {},
   "outputs": [],
   "source": []
  },
  {
   "cell_type": "code",
   "execution_count": 96,
   "metadata": {},
   "outputs": [],
   "source": [
    "bool_timeerror = df['imageTime'] < 1e12\n",
    "df.imageTime[bool_timeerror] = df.processTime[bool_timeerror]"
   ]
  },
  {
   "cell_type": "code",
   "execution_count": 97,
   "metadata": {},
   "outputs": [
    {
     "data": {
      "text/html": [
       "<div>\n",
       "<style scoped>\n",
       "    .dataframe tbody tr th:only-of-type {\n",
       "        vertical-align: middle;\n",
       "    }\n",
       "\n",
       "    .dataframe tbody tr th {\n",
       "        vertical-align: top;\n",
       "    }\n",
       "\n",
       "    .dataframe thead th {\n",
       "        text-align: right;\n",
       "    }\n",
       "</style>\n",
       "<table border=\"1\" class=\"dataframe\">\n",
       "  <thead>\n",
       "    <tr style=\"text-align: right;\">\n",
       "      <th></th>\n",
       "      <th>frameID</th>\n",
       "      <th>imageTime</th>\n",
       "      <th>processTime</th>\n",
       "      <th>image_datetime</th>\n",
       "      <th>process_datetime</th>\n",
       "      <th>imageSecondsSinceStart</th>\n",
       "    </tr>\n",
       "  </thead>\n",
       "  <tbody>\n",
       "  </tbody>\n",
       "</table>\n",
       "</div>"
      ],
      "text/plain": [
       "Empty DataFrame\n",
       "Columns: [frameID, imageTime, processTime, image_datetime, process_datetime, imageSecondsSinceStart]\n",
       "Index: []"
      ]
     },
     "execution_count": 97,
     "metadata": {},
     "output_type": "execute_result"
    }
   ],
   "source": [
    "df[bool_timeerror]"
   ]
  },
  {
   "cell_type": "code",
   "execution_count": 98,
   "metadata": {},
   "outputs": [
    {
     "data": {
      "text/html": [
       "<div>\n",
       "<style scoped>\n",
       "    .dataframe tbody tr th:only-of-type {\n",
       "        vertical-align: middle;\n",
       "    }\n",
       "\n",
       "    .dataframe tbody tr th {\n",
       "        vertical-align: top;\n",
       "    }\n",
       "\n",
       "    .dataframe thead th {\n",
       "        text-align: right;\n",
       "    }\n",
       "</style>\n",
       "<table border=\"1\" class=\"dataframe\">\n",
       "  <thead>\n",
       "    <tr style=\"text-align: right;\">\n",
       "      <th></th>\n",
       "      <th>frameID</th>\n",
       "      <th>imageTime</th>\n",
       "      <th>processTime</th>\n",
       "      <th>image_datetime</th>\n",
       "      <th>process_datetime</th>\n",
       "      <th>imageSecondsSinceStart</th>\n",
       "    </tr>\n",
       "  </thead>\n",
       "  <tbody>\n",
       "    <tr>\n",
       "      <th>0</th>\n",
       "      <td>459</td>\n",
       "      <td>1.598384e+12</td>\n",
       "      <td>1.598384e+12</td>\n",
       "      <td>2020-08-25 15:28:24.092423096</td>\n",
       "      <td>2020-08-25 15:28:24.104371094</td>\n",
       "      <td>0.000000</td>\n",
       "    </tr>\n",
       "    <tr>\n",
       "      <th>1</th>\n",
       "      <td>460</td>\n",
       "      <td>1.598384e+12</td>\n",
       "      <td>1.598384e+12</td>\n",
       "      <td>2020-08-25 15:28:24.112427490</td>\n",
       "      <td>2020-08-25 15:28:24.129909424</td>\n",
       "      <td>0.020004</td>\n",
       "    </tr>\n",
       "    <tr>\n",
       "      <th>2</th>\n",
       "      <td>461</td>\n",
       "      <td>1.598384e+12</td>\n",
       "      <td>1.598384e+12</td>\n",
       "      <td>2020-08-25 15:28:24.132431641</td>\n",
       "      <td>2020-08-25 15:28:24.144358398</td>\n",
       "      <td>0.040009</td>\n",
       "    </tr>\n",
       "    <tr>\n",
       "      <th>3</th>\n",
       "      <td>462</td>\n",
       "      <td>1.598384e+12</td>\n",
       "      <td>1.598384e+12</td>\n",
       "      <td>2020-08-25 15:28:24.152435791</td>\n",
       "      <td>2020-08-25 15:28:24.164397949</td>\n",
       "      <td>0.060013</td>\n",
       "    </tr>\n",
       "    <tr>\n",
       "      <th>4</th>\n",
       "      <td>463</td>\n",
       "      <td>1.598384e+12</td>\n",
       "      <td>1.598384e+12</td>\n",
       "      <td>2020-08-25 15:28:24.172439697</td>\n",
       "      <td>2020-08-25 15:28:24.184273193</td>\n",
       "      <td>0.080017</td>\n",
       "    </tr>\n",
       "  </tbody>\n",
       "</table>\n",
       "</div>"
      ],
      "text/plain": [
       "   frameID     imageTime   processTime                image_datetime  \\\n",
       "0      459  1.598384e+12  1.598384e+12 2020-08-25 15:28:24.092423096   \n",
       "1      460  1.598384e+12  1.598384e+12 2020-08-25 15:28:24.112427490   \n",
       "2      461  1.598384e+12  1.598384e+12 2020-08-25 15:28:24.132431641   \n",
       "3      462  1.598384e+12  1.598384e+12 2020-08-25 15:28:24.152435791   \n",
       "4      463  1.598384e+12  1.598384e+12 2020-08-25 15:28:24.172439697   \n",
       "\n",
       "               process_datetime  imageSecondsSinceStart  \n",
       "0 2020-08-25 15:28:24.104371094                0.000000  \n",
       "1 2020-08-25 15:28:24.129909424                0.020004  \n",
       "2 2020-08-25 15:28:24.144358398                0.040009  \n",
       "3 2020-08-25 15:28:24.164397949                0.060013  \n",
       "4 2020-08-25 15:28:24.184273193                0.080017  "
      ]
     },
     "execution_count": 98,
     "metadata": {},
     "output_type": "execute_result"
    }
   ],
   "source": [
    "df.head()"
   ]
  },
  {
   "cell_type": "code",
   "execution_count": null,
   "metadata": {},
   "outputs": [],
   "source": []
  }
 ],
 "metadata": {
  "kernelspec": {
   "display_name": "Python 3",
   "language": "python",
   "name": "python3"
  },
  "language_info": {
   "codemirror_mode": {
    "name": "ipython",
    "version": 3
   },
   "file_extension": ".py",
   "mimetype": "text/x-python",
   "name": "python",
   "nbconvert_exporter": "python",
   "pygments_lexer": "ipython3",
   "version": "3.7.7"
  }
 },
 "nbformat": 4,
 "nbformat_minor": 4
}
